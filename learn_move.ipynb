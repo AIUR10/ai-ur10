{
 "cells": [
  {
   "attachments": {},
   "cell_type": "markdown",
   "metadata": {},
   "source": [
    "# Try UR10 gym env"
   ]
  },
  {
   "cell_type": "code",
   "execution_count": 1,
   "metadata": {},
   "outputs": [],
   "source": [
    "import sys\n",
    "sys.path.append(\"./gym-examples/\") # to be ale to import from the gym_examples folder, which I simply put inside this project\n",
    "import gym_examples\n",
    "import gym"
   ]
  },
  {
   "cell_type": "code",
   "execution_count": 2,
   "metadata": {},
   "outputs": [
    {
     "name": "stderr",
     "output_type": "stream",
     "text": [
      "error: library ( /home/joffreyma/Projets/mastere_ia/cours/CoppeliaSim_Edu_V4_5_1_rev4_Ubuntu20_04/libsimExtROS.so ) load: \"Cannot load library /home/joffreyma/Projets/mastere_ia/cours/CoppeliaSim_Edu_V4_5_1_rev4_Ubuntu20_04/libsimExtROS.so: (libimage_transport.so: cannot open shared object file: No such file or directory)\"\n",
      "error: library ( /home/joffreyma/Projets/mastere_ia/cours/CoppeliaSim_Edu_V4_5_1_rev4_Ubuntu20_04/libsimExtROS2.so ) load: \"Cannot load library /home/joffreyma/Projets/mastere_ia/cours/CoppeliaSim_Edu_V4_5_1_rev4_Ubuntu20_04/libsimExtROS2.so: (libstd_srvs__rosidl_typesupport_cpp.so: cannot open shared object file: No such file or directory)\"\n"
     ]
    },
    {
     "name": "stdout",
     "output_type": "stream",
     "text": [
      "[0. 0. 0. 0. 0. 0. 0. 0. 0. 0. 0. 0.]\n"
     ]
    }
   ],
   "source": [
    "env = gym.make('gym_examples/UR10-v0')"
   ]
  },
  {
   "cell_type": "code",
   "execution_count": 4,
   "metadata": {},
   "outputs": [
    {
     "data": {
      "text/plain": [
       "<pyrep.objects.dummy.Dummy at 0x7f1c36e89a30>"
      ]
     },
     "execution_count": 4,
     "metadata": {},
     "output_type": "execute_result"
    }
   ],
   "source": [
    "test = env.agent.get_tip()"
   ]
  },
  {
   "cell_type": "code",
   "execution_count": 6,
   "metadata": {},
   "outputs": [
    {
     "ename": "AttributeError",
     "evalue": "'UR10' object has no attribute 'get_target'",
     "output_type": "error",
     "traceback": [
      "\u001b[0;31m---------------------------------------------------------------------------\u001b[0m",
      "\u001b[0;31mAttributeError\u001b[0m                            Traceback (most recent call last)",
      "Cell \u001b[0;32mIn[6], line 1\u001b[0m\n\u001b[0;32m----> 1\u001b[0m test \u001b[39m=\u001b[39m env\u001b[39m.\u001b[39;49magent\u001b[39m.\u001b[39;49mget_target()\n",
      "\u001b[0;31mAttributeError\u001b[0m: 'UR10' object has no attribute 'get_target'"
     ]
    }
   ],
   "source": [
    "test = env.agent.get_target()"
   ]
  },
  {
   "cell_type": "code",
   "execution_count": 7,
   "metadata": {},
   "outputs": [
    {
     "ename": "",
     "evalue": "",
     "output_type": "error",
     "traceback": [
      "\u001b[1;31mCannot execute code, session has been disposed. Please try restarting the Kernel."
     ]
    },
    {
     "ename": "",
     "evalue": "",
     "output_type": "error",
     "traceback": [
      "\u001b[1;31mThe Kernel crashed while executing code in the the current cell or a previous cell. Please review the code in the cell(s) to identify a possible cause of the failure. Click <a href='https://aka.ms/vscodeJupyterKernelCrash'>here</a> for more info. View Jupyter <a href='command:jupyter.viewOutput'>log</a> for further details."
     ]
    }
   ],
   "source": [
    "env.shutdown()"
   ]
  },
  {
   "attachments": {},
   "cell_type": "markdown",
   "metadata": {},
   "source": [
    "---\n",
    "\n",
    "# (DEPRECATED) check the UR10 in the sim \n",
    "\n",
    "Following code is to test the correct config of the UR10 in CoppeliaSim for PyRep.\n",
    "No longer needed as in it is part of our gym env for UR10.\n",
    "Kept there for now."
   ]
  },
  {
   "cell_type": "code",
   "execution_count": 7,
   "metadata": {},
   "outputs": [],
   "source": [
    "from pyrep import PyRep"
   ]
  },
  {
   "cell_type": "code",
   "execution_count": 2,
   "metadata": {},
   "outputs": [],
   "source": [
    "from pyrep.robots.arms.ur10 import UR10"
   ]
  },
  {
   "cell_type": "code",
   "execution_count": 3,
   "metadata": {},
   "outputs": [],
   "source": [
    "from pyrep.robots.arms.panda import Panda"
   ]
  },
  {
   "cell_type": "code",
   "execution_count": 8,
   "metadata": {},
   "outputs": [],
   "source": [
    "pr = PyRep()"
   ]
  },
  {
   "cell_type": "code",
   "execution_count": 5,
   "metadata": {},
   "outputs": [
    {
     "name": "stderr",
     "output_type": "stream",
     "text": [
      "error: library ( /home/joffreyma/Projets/mastere_ia/cours/CoppeliaSim_Edu_V4_5_1_rev4_Ubuntu20_04/libsimExtROS.so ) load: \"Cannot load library /home/joffreyma/Projets/mastere_ia/cours/CoppeliaSim_Edu_V4_5_1_rev4_Ubuntu20_04/libsimExtROS.so: (libimage_transport.so: cannot open shared object file: No such file or directory)\"\n",
      "error: library ( /home/joffreyma/Projets/mastere_ia/cours/CoppeliaSim_Edu_V4_5_1_rev4_Ubuntu20_04/libsimExtROS2.so ) load: \"Cannot load library /home/joffreyma/Projets/mastere_ia/cours/CoppeliaSim_Edu_V4_5_1_rev4_Ubuntu20_04/libsimExtROS2.so: (libstd_srvs__rosidl_typesupport_cpp.so: cannot open shared object file: No such file or directory)\"\n"
     ]
    }
   ],
   "source": [
    "pr.launch('scene_with_ur10.ttt', headless=True)"
   ]
  },
  {
   "cell_type": "code",
   "execution_count": 6,
   "metadata": {},
   "outputs": [],
   "source": [
    "pr.start()"
   ]
  },
  {
   "cell_type": "code",
   "execution_count": 7,
   "metadata": {},
   "outputs": [],
   "source": [
    "# in order to use it one need to\n",
    "# enable old dialoges https://forum.coppeliarobotics.com/viewtopic.php?t=9567 \n",
    "# as to follow this tutorial https://github.com/stepjam/PyRep/blob/master/tutorials/adding_robots.md\n",
    "\n",
    "arm = UR10()"
   ]
  },
  {
   "cell_type": "code",
   "execution_count": 9,
   "metadata": {},
   "outputs": [
    {
     "ename": "PyRepError",
     "evalue": "CoppeliaSim has not been launched. Call launch first.",
     "output_type": "error",
     "traceback": [
      "\u001b[0;31m---------------------------------------------------------------------------\u001b[0m",
      "\u001b[0;31mPyRepError\u001b[0m                                Traceback (most recent call last)",
      "Cell \u001b[0;32mIn[9], line 1\u001b[0m\n\u001b[0;32m----> 1\u001b[0m pr\u001b[39m.\u001b[39;49mshutdown()  \u001b[39m# Close the application\u001b[39;00m\n",
      "File \u001b[0;32m~/Projets/mastere_ia/cours/IA712-Robotique_Mobile/Projet/ai-ur10/venv/lib/python3.9/site-packages/pyrep/pyrep.py:152\u001b[0m, in \u001b[0;36mPyRep.shutdown\u001b[0;34m(self)\u001b[0m\n\u001b[1;32m    149\u001b[0m \u001b[39m\u001b[39m\u001b[39m\"\"\"Shuts down the CoppeliaSim simulation.\u001b[39;00m\n\u001b[1;32m    150\u001b[0m \u001b[39m\"\"\"\u001b[39;00m\n\u001b[1;32m    151\u001b[0m \u001b[39mif\u001b[39;00m \u001b[39mself\u001b[39m\u001b[39m.\u001b[39m_ui_thread \u001b[39mis\u001b[39;00m \u001b[39mNone\u001b[39;00m:\n\u001b[0;32m--> 152\u001b[0m     \u001b[39mraise\u001b[39;00m PyRepError(\n\u001b[1;32m    153\u001b[0m         \u001b[39m'\u001b[39m\u001b[39mCoppeliaSim has not been launched. Call launch first.\u001b[39m\u001b[39m'\u001b[39m)\n\u001b[1;32m    154\u001b[0m \u001b[39mif\u001b[39;00m \u001b[39mself\u001b[39m\u001b[39m.\u001b[39m_ui_thread \u001b[39mis\u001b[39;00m \u001b[39mnot\u001b[39;00m \u001b[39mNone\u001b[39;00m:\n\u001b[1;32m    155\u001b[0m     \u001b[39mself\u001b[39m\u001b[39m.\u001b[39m_shutting_down \u001b[39m=\u001b[39m \u001b[39mTrue\u001b[39;00m\n",
      "\u001b[0;31mPyRepError\u001b[0m: CoppeliaSim has not been launched. Call launch first."
     ]
    }
   ],
   "source": [
    "pr.shutdown()  # Close the application"
   ]
  },
  {
   "cell_type": "code",
   "execution_count": null,
   "metadata": {},
   "outputs": [],
   "source": []
  }
 ],
 "metadata": {
  "kernelspec": {
   "display_name": "venv",
   "language": "python",
   "name": "python3"
  },
  "language_info": {
   "codemirror_mode": {
    "name": "ipython",
    "version": 3
   },
   "file_extension": ".py",
   "mimetype": "text/x-python",
   "name": "python",
   "nbconvert_exporter": "python",
   "pygments_lexer": "ipython3",
   "version": "3.9.5"
  },
  "orig_nbformat": 4
 },
 "nbformat": 4,
 "nbformat_minor": 2
}
