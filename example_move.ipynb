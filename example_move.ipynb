{
 "cells": [
  {
   "cell_type": "code",
   "execution_count": 1,
   "metadata": {},
   "outputs": [],
   "source": [
    "import sys\n",
    "sys.path.append(\"./gym-examples/\") # to be ale to import from the gym_examples folder, which I simply put inside this project\n",
    "import gym_examples\n",
    "import gym\n",
    "from stable_baselines3 import SAC\n",
    "from NormalizeActionWrapper import NormalizeActionWrapper\n",
    "import time"
   ]
  },
  {
   "cell_type": "code",
   "execution_count": 2,
   "metadata": {},
   "outputs": [],
   "source": [
    "env = NormalizeActionWrapper(gym.make('gym_examples/UR10-v0', headless=False, responsive_ui=True, max_steps=25))#, nb_steps_first_position=25))"
   ]
  },
  {
   "cell_type": "code",
   "execution_count": 3,
   "metadata": {},
   "outputs": [],
   "source": [
    "model = SAC.load(\"sac_circular_wtf.zip\") # alternatively logs/rl_model_200000_steps.zip"
   ]
  },
  {
   "cell_type": "code",
   "execution_count": 6,
   "metadata": {},
   "outputs": [
    {
     "name": "stdout",
     "output_type": "stream",
     "text": [
      "RESET\n",
      "[ 0.00000000e+00  0.00000000e+00  0.00000000e+00  0.00000000e+00\n",
      "  0.00000000e+00  0.00000000e+00 -2.06081867e+00  7.07197189e-02\n",
      " -1.29490852e+00  8.04478168e+00  4.02132988e+00 -1.54944420e+00\n",
      " -3.79303694e-02 -1.82843208e-03  3.99085879e-03 -2.24846485e-03\n",
      " -1.24596227e-02  1.16349058e-02]\n"
     ]
    },
    {
     "data": {
      "text/plain": [
       "array([ 0.00000000e+00,  0.00000000e+00,  0.00000000e+00,  0.00000000e+00,\n",
       "        0.00000000e+00,  0.00000000e+00, -2.06081867e+00,  7.07197189e-02,\n",
       "       -1.29490852e+00,  8.04478168e+00,  4.02132988e+00, -1.54944420e+00,\n",
       "       -3.79303694e-02, -1.82843208e-03,  3.99085879e-03, -2.24846485e-03,\n",
       "       -1.24596227e-02,  1.16349058e-02])"
      ]
     },
     "execution_count": 6,
     "metadata": {},
     "output_type": "execute_result"
    }
   ],
   "source": [
    "env.reset()"
   ]
  },
  {
   "cell_type": "code",
   "execution_count": 5,
   "metadata": {},
   "outputs": [
    {
     "name": "stdout",
     "output_type": "stream",
     "text": [
      "RESET\n",
      "[ 0.00000000e+00  0.00000000e+00  0.00000000e+00  0.00000000e+00\n",
      "  0.00000000e+00  0.00000000e+00  0.00000000e+00  0.00000000e+00\n",
      "  0.00000000e+00  0.00000000e+00  0.00000000e+00  0.00000000e+00\n",
      " -4.05246615e-02 -5.09351492e-04  3.95953655e-03  1.49947582e-02\n",
      " -5.04248201e-05  1.16841678e-04]\n",
      "Target position [-0.40000531 -0.25296772  0.40000004]\n",
      "Tip orientation relatively to target 0.4673867141827941\n",
      "[ 1.03040934e-01 -3.53598595e-03  6.47454262e-02 -4.02239084e-01\n",
      " -2.01066494e-01  7.74722099e-02  2.06081867e+00 -7.07197189e-02\n",
      "  1.29490852e+00 -8.04478168e+00 -4.02132988e+00  1.54944420e+00\n",
      "  3.86850238e-02  1.90053582e-02  1.48824453e-02 -1.14392035e-01\n",
      " -3.44672680e-01  8.32199957e-03]\n"
     ]
    },
    {
     "ename": "AttributeError",
     "evalue": "module 'sys' has no attribute 'sleep'",
     "output_type": "error",
     "traceback": [
      "\u001b[0;31m---------------------------------------------------------------------------\u001b[0m",
      "\u001b[0;31mAttributeError\u001b[0m                            Traceback (most recent call last)",
      "Cell \u001b[0;32mIn[5], line 10\u001b[0m\n\u001b[1;32m      8\u001b[0m obs, reward, done, _ \u001b[39m=\u001b[39m env\u001b[39m.\u001b[39mstep(action)\n\u001b[1;32m      9\u001b[0m cnt \u001b[39m+\u001b[39m\u001b[39m=\u001b[39m \u001b[39m1\u001b[39m\n\u001b[0;32m---> 10\u001b[0m sys\u001b[39m.\u001b[39;49msleep(\u001b[39m5\u001b[39m)\n\u001b[1;32m     11\u001b[0m \u001b[39m#print(f'step {cnt} | target orientation {env.target.get_orientation()}')\u001b[39;00m\n\u001b[1;32m     12\u001b[0m \u001b[39m#print(f'step {cnt} | tip orientation {env.agent_ee_tip.get_orientation()}')\u001b[39;00m\n\u001b[1;32m     13\u001b[0m \u001b[39m#print(f'step {cnt} | tip orientation relative to target {env.agent_ee_tip.get_orientation(relative_to=env.target)}')\u001b[39;00m\n",
      "\u001b[0;31mAttributeError\u001b[0m: module 'sys' has no attribute 'sleep'"
     ]
    }
   ],
   "source": [
    "cnt = 0\n",
    "obs = env.reset()\n",
    "done = False\n",
    "\n",
    "first_orientation = env.target.get_orientation()\n",
    "while not done or cnt<=25:\n",
    "    action, _states = model.predict(obs, deterministic=True)\n",
    "    obs, reward, done, _ = env.step(action)\n",
    "    cnt += 1\n",
    "    time.sleep(5)\n",
    "    #print(f'step {cnt} | target orientation {env.target.get_orientation()}')\n",
    "    #print(f'step {cnt} | tip orientation {env.agent_ee_tip.get_orientation()}')\n",
    "    #print(f'step {cnt} | tip orientation relative to target {env.agent_ee_tip.get_orientation(relative_to=env.target)}')"
   ]
  },
  {
   "cell_type": "code",
   "execution_count": 6,
   "metadata": {},
   "outputs": [
    {
     "name": "stdout",
     "output_type": "stream",
     "text": [
      "[CoppeliaSim:loadinfo]   done.\n"
     ]
    }
   ],
   "source": [
    "env.shutdown()"
   ]
  },
  {
   "cell_type": "code",
   "execution_count": null,
   "metadata": {},
   "outputs": [],
   "source": []
  }
 ],
 "metadata": {
  "kernelspec": {
   "display_name": "venv",
   "language": "python",
   "name": "python3"
  },
  "language_info": {
   "codemirror_mode": {
    "name": "ipython",
    "version": 3
   },
   "file_extension": ".py",
   "mimetype": "text/x-python",
   "name": "python",
   "nbconvert_exporter": "python",
   "pygments_lexer": "ipython3",
   "version": "3.9.5"
  },
  "orig_nbformat": 4
 },
 "nbformat": 4,
 "nbformat_minor": 2
}
