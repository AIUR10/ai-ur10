{
 "cells": [
  {
   "cell_type": "code",
   "execution_count": 1,
   "metadata": {},
   "outputs": [],
   "source": [
    "import sys\n",
    "sys.path.append(\"./gym-examples/\") # to be ale to import from the gym_examples folder, which I simply put inside this project\n",
    "import gym_examples\n",
    "import gym\n",
    "from stable_baselines3 import SAC\n",
    "from NormalizeActionWrapper import NormalizeActionWrapper"
   ]
  },
  {
   "cell_type": "code",
   "execution_count": 2,
   "metadata": {},
   "outputs": [],
   "source": [
    "env = NormalizeActionWrapper(gym.make('gym_examples/UR10-v0', headless=False, responsive_ui=True))"
   ]
  },
  {
   "cell_type": "code",
   "execution_count": 3,
   "metadata": {},
   "outputs": [],
   "source": [
    "model = SAC.load(\"logs/rl_model_200000_steps.zip\") # alternatively sac_circular"
   ]
  },
  {
   "cell_type": "code",
   "execution_count": 5,
   "metadata": {},
   "outputs": [],
   "source": [
    "cnt = 0\n",
    "obs = env.reset()\n",
    "done = False\n",
    "\n",
    "first_orientation = env.target.get_orientation()\n",
    "while not done:\n",
    "    action, _states = model.predict(obs, deterministic=True)\n",
    "    obs, reward, done, _ = env.step(action)\n",
    "    cnt += 1\n",
    "    #print(f'step {cnt} | target orientation {env.target.get_orientation()}')\n",
    "    #print(f'step {cnt} | tip orientation {env.agent_ee_tip.get_orientation()}')\n",
    "    #print(f'step {cnt} | tip orientation relative to target {env.agent_ee_tip.get_orientation(relative_to=env.target)}')"
   ]
  },
  {
   "cell_type": "code",
   "execution_count": 8,
   "metadata": {},
   "outputs": [
    {
     "name": "stdout",
     "output_type": "stream",
     "text": [
      "[CoppeliaSim:loadinfo]   done.\n"
     ]
    }
   ],
   "source": [
    "env.shutdown()"
   ]
  },
  {
   "cell_type": "code",
   "execution_count": null,
   "metadata": {},
   "outputs": [],
   "source": []
  }
 ],
 "metadata": {
  "kernelspec": {
   "display_name": "venv",
   "language": "python",
   "name": "python3"
  },
  "language_info": {
   "codemirror_mode": {
    "name": "ipython",
    "version": 3
   },
   "file_extension": ".py",
   "mimetype": "text/x-python",
   "name": "python",
   "nbconvert_exporter": "python",
   "pygments_lexer": "ipython3",
   "version": "3.9.5"
  },
  "orig_nbformat": 4
 },
 "nbformat": 4,
 "nbformat_minor": 2
}
