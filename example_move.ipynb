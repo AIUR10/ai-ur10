{
 "cells": [
  {
   "cell_type": "code",
   "execution_count": 1,
   "metadata": {},
   "outputs": [],
   "source": [
    "import sys\n",
    "sys.path.append(\"./gym-examples/\") # to be ale to import from the gym_examples folder, which I simply put inside this project\n",
    "import gym_examples\n",
    "import gym\n",
    "from stable_baselines3 import SAC\n",
    "from NormalizeActionWrapper import NormalizeActionWrapper\n",
    "import time"
   ]
  },
  {
   "cell_type": "code",
   "execution_count": 2,
   "metadata": {},
   "outputs": [
    {
     "name": "stdout",
     "output_type": "stream",
     "text": [
      "Simulation time step: 0.05000000074505806 seconds\n"
     ]
    }
   ],
   "source": [
    "env = NormalizeActionWrapper(gym.make('gym_examples/UR10-v0', headless=False, responsive_ui=True, max_steps=25))#, nb_steps_first_position=25))"
   ]
  },
  {
   "cell_type": "code",
   "execution_count": 3,
   "metadata": {},
   "outputs": [],
   "source": [
    "model = SAC.load(\"logs/rl_model_2000000_steps.zip\") # alternatively sac_circular_wtf.zip"
   ]
  },
  {
   "cell_type": "code",
   "execution_count": 4,
   "metadata": {},
   "outputs": [
    {
     "data": {
      "text/plain": [
       "array([ 0.00000000e+00, -8.72664630e-01, -2.44346094e+00, -2.96705961e+00,\n",
       "       -1.57079637e+00,  1.57079637e+00,  0.00000000e+00,  0.00000000e+00,\n",
       "        0.00000000e+00,  0.00000000e+00,  0.00000000e+00,  0.00000000e+00,\n",
       "       -4.36371565e-03, -4.94211912e-04, -5.82885742e-03, -5.82081079e-03,\n",
       "        2.49448419e-03,  2.54358739e-01])"
      ]
     },
     "execution_count": 4,
     "metadata": {},
     "output_type": "execute_result"
    }
   ],
   "source": [
    "env.reset()"
   ]
  },
  {
   "cell_type": "code",
   "execution_count": 5,
   "metadata": {},
   "outputs": [
    {
     "data": {
      "text/plain": [
       "array([ 0.00000000e+00, -8.72664630e-01, -2.44346094e+00, -2.96705961e+00,\n",
       "       -1.57079637e+00,  1.57079637e+00,  0.00000000e+00,  0.00000000e+00,\n",
       "        0.00000000e+00,  0.00000000e+00,  0.00000000e+00,  0.00000000e+00,\n",
       "       -4.36371565e-03, -4.94211912e-04, -5.82885742e-03, -5.82081079e-03,\n",
       "        2.49448419e-03,  2.54358739e-01])"
      ]
     },
     "execution_count": 5,
     "metadata": {},
     "output_type": "execute_result"
    }
   ],
   "source": [
    "env.get_obs()"
   ]
  },
  {
   "cell_type": "code",
   "execution_count": null,
   "metadata": {},
   "outputs": [],
   "source": [
    "cnt = 0\n",
    "obs = env.reset()\n",
    "done = False\n",
    "\n",
    "first_orientation = env.target.get_orientation()\n",
    "while not done or cnt<=12000:\n",
    "    action, _states = model.predict(obs, deterministic=True)\n",
    "    obs, reward, done, _ = env.step(action)\n",
    "    cnt += 1\n",
    "    #time.sleep(5)\n",
    "    #print(f'step {cnt} | target orientation {env.target.get_orientation()}')\n",
    "    #print(f'step {cnt} | tip orientation {env.agent_ee_tip.get_orientation()}')\n",
    "    #print(f'step {cnt} | tip orientation relative to target {env.agent_ee_tip.get_orientation(relative_to=env.target)}')"
   ]
  },
  {
   "cell_type": "code",
   "execution_count": 7,
   "metadata": {},
   "outputs": [
    {
     "name": "stdout",
     "output_type": "stream",
     "text": [
      "[CoppeliaSim:loadinfo]   done.\n"
     ]
    }
   ],
   "source": [
    "env.shutdown()"
   ]
  },
  {
   "cell_type": "code",
   "execution_count": null,
   "metadata": {},
   "outputs": [],
   "source": []
  }
 ],
 "metadata": {
  "kernelspec": {
   "display_name": "venv",
   "language": "python",
   "name": "python3"
  },
  "language_info": {
   "codemirror_mode": {
    "name": "ipython",
    "version": 3
   },
   "file_extension": ".py",
   "mimetype": "text/x-python",
   "name": "python",
   "nbconvert_exporter": "python",
   "pygments_lexer": "ipython3",
   "version": "3.9.5"
  },
  "orig_nbformat": 4
 },
 "nbformat": 4,
 "nbformat_minor": 2
}
