{
 "cells": [
  {
   "cell_type": "code",
   "execution_count": 1,
   "metadata": {},
   "outputs": [],
   "source": [
    "import sys\n",
    "sys.path.append(\"./gym-examples/\") # to be ale to import from the gym_examples folder, which I simply put inside this project\n",
    "import gym_examples\n",
    "import gym\n",
    "from stable_baselines3 import SAC\n",
    "from NormalizeActionWrapper import NormalizeActionWrapper\n",
    "import time"
   ]
  },
  {
   "cell_type": "code",
   "execution_count": 2,
   "metadata": {},
   "outputs": [],
   "source": [
    "env = NormalizeActionWrapper(gym.make('gym_examples/UR10-v0', headless=False, responsive_ui=True, max_steps=25))#, nb_steps_first_position=25))"
   ]
  },
  {
   "cell_type": "code",
   "execution_count": 9,
   "metadata": {},
   "outputs": [],
   "source": [
    "model = SAC.load(\"logs/rl_model_500000_steps.zip\") # alternatively sac_circular_wtf.zip"
   ]
  },
  {
   "cell_type": "code",
   "execution_count": 3,
   "metadata": {},
   "outputs": [
    {
     "name": "stdout",
     "output_type": "stream",
     "text": [
      "RESET\n"
     ]
    },
    {
     "name": "stdout",
     "output_type": "stream",
     "text": [
      "[ 0.00000000e+00  0.00000000e+00  0.00000000e+00  0.00000000e+00\n",
      "  0.00000000e+00  0.00000000e+00  0.00000000e+00  0.00000000e+00\n",
      "  0.00000000e+00  0.00000000e+00  0.00000000e+00  0.00000000e+00\n",
      " -4.36398387e-03 -4.94122505e-04 -5.82844019e-03  1.50377154e-02\n",
      " -3.11099939e-05  1.13970214e-04]\n"
     ]
    },
    {
     "data": {
      "text/plain": [
       "array([ 0.00000000e+00,  0.00000000e+00,  0.00000000e+00,  0.00000000e+00,\n",
       "        0.00000000e+00,  0.00000000e+00,  0.00000000e+00,  0.00000000e+00,\n",
       "        0.00000000e+00,  0.00000000e+00,  0.00000000e+00,  0.00000000e+00,\n",
       "       -4.36398387e-03, -4.94122505e-04, -5.82844019e-03,  1.50377154e-02,\n",
       "       -3.11099939e-05,  1.13970214e-04])"
      ]
     },
     "execution_count": 3,
     "metadata": {},
     "output_type": "execute_result"
    }
   ],
   "source": [
    "env.reset()"
   ]
  },
  {
   "cell_type": "code",
   "execution_count": 4,
   "metadata": {},
   "outputs": [
    {
     "name": "stdout",
     "output_type": "stream",
     "text": [
      "[ 0.00000000e+00  0.00000000e+00  0.00000000e+00  0.00000000e+00\n",
      "  0.00000000e+00  0.00000000e+00  0.00000000e+00  0.00000000e+00\n",
      "  0.00000000e+00  0.00000000e+00  0.00000000e+00  0.00000000e+00\n",
      " -4.36398387e-03 -4.94122505e-04 -5.82844019e-03  1.50377154e-02\n",
      " -3.11099939e-05  1.13970214e-04]\n"
     ]
    },
    {
     "data": {
      "text/plain": [
       "array([ 0.00000000e+00,  0.00000000e+00,  0.00000000e+00,  0.00000000e+00,\n",
       "        0.00000000e+00,  0.00000000e+00,  0.00000000e+00,  0.00000000e+00,\n",
       "        0.00000000e+00,  0.00000000e+00,  0.00000000e+00,  0.00000000e+00,\n",
       "       -4.36398387e-03, -4.94122505e-04, -5.82844019e-03,  1.50377154e-02,\n",
       "       -3.11099939e-05,  1.13970214e-04])"
      ]
     },
     "execution_count": 4,
     "metadata": {},
     "output_type": "execute_result"
    }
   ],
   "source": [
    "env.get_obs()"
   ]
  },
  {
   "cell_type": "code",
   "execution_count": 11,
   "metadata": {},
   "outputs": [
    {
     "name": "stdout",
     "output_type": "stream",
     "text": [
      "RESET\n",
      "[ 0.00000000e+00  0.00000000e+00  0.00000000e+00  0.00000000e+00\n",
      "  0.00000000e+00  0.00000000e+00  0.00000000e+00  0.00000000e+00\n",
      "  0.00000000e+00  0.00000000e+00  0.00000000e+00  0.00000000e+00\n",
      " -4.36398387e-03 -4.94122505e-04 -5.82844019e-03  1.50377154e-02\n",
      " -3.11099939e-05  1.13970214e-04]\n",
      "Target position [-0.35000536 -0.2529678   0.37500003]\n",
      "Tip orientation relatively to target 0.9222222343087196\n",
      "[-0.08623695  0.05318689 -0.13931131  0.42873359  0.03557968 -0.42058706\n",
      " -1.72473907  1.06373787 -2.78622627  8.57467175  0.71159363 -8.41174126\n",
      " -0.02209699 -0.02852502  0.02038217 -0.11115626  0.35778284 -0.45328313]\n",
      "Target position [-0.35000536 -0.2529678   0.37500003]\n",
      "Tip orientation relatively to target 1.8083749637007713\n",
      "[-0.31882215  0.24879742 -0.43806577  0.91560531 -0.16673899 -0.8032527\n",
      " -4.65170383  3.91221046 -5.97508907  9.73743439 -4.04637337 -7.65331268\n",
      " -0.14519277 -0.03778814  0.1080524  -0.08364614  0.72927761 -0.99545121]\n",
      "Target position [-0.35000536 -0.2529678   0.37500003]\n",
      "Tip orientation relatively to target 3.089381217956543\n",
      "[-5.42030096e-01  4.92073298e-01 -4.72569466e-01  1.06622291e+00\n",
      " -5.10517120e-01 -1.02836037e+00 -4.46415901e+00  4.86551762e+00\n",
      " -6.90073967e-01  3.01235199e+00 -6.87556267e+00 -4.50215340e+00\n",
      " -2.19365984e-01 -6.19314611e-03  7.74441063e-02  3.58181775e-01\n",
      "  8.95100772e-01 -1.83609867e+00]\n",
      "Target position [-0.35000536 -0.2529678   0.37500003]\n",
      "Tip orientation relatively to target 4.078160524368286\n",
      "[-0.64173388  0.64700246 -0.47678113  1.13524866 -0.6447432  -1.35577703\n",
      " -1.99407578  3.09858322 -0.08423328  1.3805151  -2.68452168 -6.54833317\n",
      " -0.2562378   0.0182595   0.05885676  0.62070072  0.8888067  -2.56865311]\n",
      "Target position [-0.35000536 -0.2529678   0.37500003]\n",
      "Tip orientation relatively to target 4.457732260227203\n",
      "[-0.77212477  0.74977612 -0.46897173  1.33703041 -0.79421115 -1.77093029\n",
      " -2.60781765  2.05547333  0.15618801  4.03563499 -2.9893589  -8.3030653\n",
      " -0.29264411  0.05038467  0.03012598  0.87143493  0.77795273  2.8083446 ]\n",
      "Target position [-0.35000536 -0.2529678   0.37500003]\n",
      "Tip orientation relatively to target 3.276390314102173\n",
      "[-9.62200642e-01  8.13563347e-01 -4.49444294e-01  1.72675014e+00\n",
      " -1.07105064e+00 -2.12034488e+00 -3.80151749e+00  1.27574444e+00\n",
      "  3.90548706e-01  7.79439449e+00 -5.53678989e+00 -6.98829174e+00\n",
      " -3.26078063e-01  1.04743361e-01  1.37475133e-03  8.95723641e-01\n",
      "  4.29768622e-01  1.95089805e+00]\n",
      "Target position [-0.35000536 -0.2529678   0.37500003]\n",
      "Tip orientation relatively to target 2.188483104109764\n",
      "[-1.16068578e+00  8.24917316e-01 -4.43551302e-01  2.02296209e+00\n",
      " -1.31038976e+00 -2.41097212e+00 -3.96970272e+00  2.27079391e-01\n",
      "  1.17859840e-01  5.92423916e+00 -4.78678226e+00 -5.81254482e+00\n",
      " -3.35717015e-01  1.36548847e-01 -2.32467055e-03  6.23657286e-01\n",
      "  1.76229879e-01  1.38859594e+00]\n",
      "Target position [-0.35000536 -0.2529678   0.37500003]\n",
      "Tip orientation relatively to target 1.1336725130677223\n",
      "[-1.35786152e+00  8.98866415e-01 -4.48106289e-01  2.24679661e+00\n",
      " -1.58073759e+00 -2.61205292e+00 -3.94351482e+00  1.47898197e+00\n",
      " -9.10997391e-02  4.47669029e+00 -5.40695667e+00 -4.02161598e+00\n",
      " -3.39455336e-01  1.63784206e-01  5.21942973e-03  2.21338511e-01\n",
      " -5.08584082e-04  9.11825418e-01]\n",
      "Target position [-0.35000536 -0.2529678   0.37500003]\n",
      "Tip orientation relatively to target 0.8096797168254852\n",
      "[-1.49835634  0.95343184 -0.45263624  2.39502192 -1.85878086 -2.76108694\n",
      " -2.80989647  1.09130859 -0.09059906  2.96450615 -5.5608654  -2.98068047\n",
      " -0.34283761  0.17012566  0.01064119 -0.1906798  -0.06322046  0.55577946]\n"
     ]
    },
    {
     "ename": "KeyboardInterrupt",
     "evalue": "",
     "output_type": "error",
     "traceback": [
      "\u001b[0;31m---------------------------------------------------------------------------\u001b[0m",
      "\u001b[0;31mKeyboardInterrupt\u001b[0m                         Traceback (most recent call last)",
      "Cell \u001b[0;32mIn[11], line 10\u001b[0m\n\u001b[1;32m      8\u001b[0m obs, reward, done, _ \u001b[39m=\u001b[39m env\u001b[39m.\u001b[39mstep(action)\n\u001b[1;32m      9\u001b[0m cnt \u001b[39m+\u001b[39m\u001b[39m=\u001b[39m \u001b[39m1\u001b[39m\n\u001b[0;32m---> 10\u001b[0m time\u001b[39m.\u001b[39;49msleep(\u001b[39m5\u001b[39;49m)\n\u001b[1;32m     11\u001b[0m \u001b[39m#print(f'step {cnt} | target orientation {env.target.get_orientation()}')\u001b[39;00m\n\u001b[1;32m     12\u001b[0m \u001b[39m#print(f'step {cnt} | tip orientation {env.agent_ee_tip.get_orientation()}')\u001b[39;00m\n\u001b[1;32m     13\u001b[0m \u001b[39m#print(f'step {cnt} | tip orientation relative to target {env.agent_ee_tip.get_orientation(relative_to=env.target)}')\u001b[39;00m\n",
      "\u001b[0;31mKeyboardInterrupt\u001b[0m: "
     ]
    }
   ],
   "source": [
    "cnt = 0\n",
    "obs = env.reset()\n",
    "done = False\n",
    "\n",
    "first_orientation = env.target.get_orientation()\n",
    "while not done or cnt<=25:\n",
    "    action, _states = model.predict(obs, deterministic=True)\n",
    "    obs, reward, done, _ = env.step(action)\n",
    "    cnt += 1\n",
    "    time.sleep(5)\n",
    "    #print(f'step {cnt} | target orientation {env.target.get_orientation()}')\n",
    "    #print(f'step {cnt} | tip orientation {env.agent_ee_tip.get_orientation()}')\n",
    "    #print(f'step {cnt} | tip orientation relative to target {env.agent_ee_tip.get_orientation(relative_to=env.target)}')"
   ]
  },
  {
   "cell_type": "code",
   "execution_count": 5,
   "metadata": {},
   "outputs": [
    {
     "name": "stdout",
     "output_type": "stream",
     "text": [
      "[CoppeliaSim:loadinfo]   done.\n"
     ]
    }
   ],
   "source": [
    "env.shutdown()"
   ]
  },
  {
   "cell_type": "code",
   "execution_count": null,
   "metadata": {},
   "outputs": [],
   "source": []
  }
 ],
 "metadata": {
  "kernelspec": {
   "display_name": "venv",
   "language": "python",
   "name": "python3"
  },
  "language_info": {
   "codemirror_mode": {
    "name": "ipython",
    "version": 3
   },
   "file_extension": ".py",
   "mimetype": "text/x-python",
   "name": "python",
   "nbconvert_exporter": "python",
   "pygments_lexer": "ipython3",
   "version": "3.9.5"
  },
  "orig_nbformat": 4
 },
 "nbformat": 4,
 "nbformat_minor": 2
}
